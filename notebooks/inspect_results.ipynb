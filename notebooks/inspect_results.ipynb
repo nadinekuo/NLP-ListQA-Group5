{
 "cells": [
  {
   "cell_type": "markdown",
   "metadata": {},
   "source": [
    "### Inspection of Individual Results"
   ]
  },
  {
   "cell_type": "code",
   "execution_count": 1,
   "metadata": {},
   "outputs": [
    {
     "name": "stderr",
     "output_type": "stream",
     "text": [
      "/Users/nadinekuo/miniconda3/lib/python3.11/site-packages/tqdm/auto.py:21: TqdmWarning: IProgress not found. Please update jupyter and ipywidgets. See https://ipywidgets.readthedocs.io/en/stable/user_install.html\n",
      "  from .autonotebook import tqdm as notebook_tqdm\n"
     ]
    },
    {
     "name": "stdout",
     "output_type": "stream",
     "text": [
      "Dataset({\n",
      "    features: ['prompts', 'outputs', 'output_tokens', 'ground_truths', 'ground_truth_tokens'],\n",
      "    num_rows: 1071\n",
      "})\n"
     ]
    }
   ],
   "source": [
    "from datasets import Dataset\n",
    "\n",
    "data = Dataset.load_from_disk(f\"../results/3_shot_flan-t5-large.hf\")\n",
    "# data = Dataset.load_from_disk(f\"../results/5_shot_flan-t5-large.hf\")\n",
    "# data = Dataset.load_from_disk(f\"../results/7_shot_flan-t5-large.hf\")\n",
    "# data = Dataset.load_from_disk(f\"../results/10_shot_flan-t5-large.hf\")\n",
    "\n",
    "print(data)"
   ]
  },
  {
   "cell_type": "code",
   "execution_count": 7,
   "metadata": {},
   "outputs": [
    {
     "name": "stdout",
     "output_type": "stream",
     "text": [
      "PROMPT:\n",
      "\n",
      "Question: List all sports teams Anthony Davis, also known as Anthony Marshon Davis Jr., played for from 2011 to 2020.\n",
      "[\"Kentucky Wildcats men's basketball (2011, 2012)\", 'New Orleans Pelicans (2012, 2013, 2014, 2015, 2016, 2017, 2018, 2019)', 'Los Angeles Lakers (2019, 2020)']\n",
      "\n",
      "Question: List all sports teams Andre Gray, also known as Andre Anthony Gray, played for from 2010 to 2020.\n",
      "['AFC Telford United (2010)', 'Hinckley United F.C. (2010, 2011, 2012)', 'Shrewsbury Town F.C. (2010)', 'England national football C team (2012, 2013, 2014)', 'Luton Town F.C. (2012, 2013, 2014)', 'Brentford F.C. (2014, 2015)', 'Burnley F.C. (2015, 2016, 2017, 2018, 2019, 2020)']\n",
      "\n",
      "Question: List all sports teams Alex Hales, also known as Alexander Daniel Hales, played for from 2013 to 2020.\n",
      "['Melbourne Renegades (2013)', 'Adelaide Strikers (2013, 2014)', 'Hobart Hurricanes (2014, 2015)', 'Mumbai Indians (2015)', 'England and Wales cricket team (2015, 2016)', 'T10 League (2017)', 'Islamabad United (2018)', 'Sunrisers Hyderabad (2018, 2019, 2020)']\n",
      "\n",
      "Question: List all sports teams Anthony Grant, also known as Anthony Paul Shaun Andrew Daure Grant, played for from 2010 to 2020. Please answer this question in the same format as the 3 examples above.\n",
      "\n",
      "MODEL ANSWER:\n",
      "\n",
      "<pad> ['St. Louis Rams', 'St. Louis Rams', 'St. Louis Rams', 'St. Louis Rams', 'St. Louis Rams']</s>\n",
      "\n",
      "GROUND TRUTH:\n",
      "\n",
      "['Southend United F.C. (2010, 2011, 2012)', 'Stevenage F.C. (2012, 2013)', 'Crewe Alexandra F.C. (2013, 2014, 2015)', 'Port Vale F.C. (2015, 2016, 2017, 2018, 2019, 2020)']\n",
      "\n"
     ]
    }
   ],
   "source": [
    "idx_to_inspect = 0\n",
    "curr_prompt = data['prompts'][idx_to_inspect]\n",
    "curr_answer = data['outputs'][idx_to_inspect]\n",
    "curr_gt = data['ground_truths'][idx_to_inspect]\n",
    "\n",
    "print(f\"PROMPT:\\n\\n{curr_prompt}\\n\")\n",
    "print(f\"\\nMODEL ANSWER:\\n\\n{curr_answer}\\n\")\n",
    "print(f\"\\nGROUND TRUTH:\\n\\n{curr_gt}\\n\")"
   ]
  },
  {
   "cell_type": "code",
   "execution_count": null,
   "metadata": {},
   "outputs": [],
   "source": []
  }
 ],
 "metadata": {
  "kernelspec": {
   "display_name": "base",
   "language": "python",
   "name": "python3"
  },
  "language_info": {
   "codemirror_mode": {
    "name": "ipython",
    "version": 3
   },
   "file_extension": ".py",
   "mimetype": "text/x-python",
   "name": "python",
   "nbconvert_exporter": "python",
   "pygments_lexer": "ipython3",
   "version": "3.11.6"
  }
 },
 "nbformat": 4,
 "nbformat_minor": 2
}
