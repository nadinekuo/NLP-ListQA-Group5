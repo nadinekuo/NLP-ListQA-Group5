{
 "cells": [
  {
   "cell_type": "markdown",
   "metadata": {},
   "source": [
    "### Inspection of Individual Results"
   ]
  },
  {
   "cell_type": "code",
   "execution_count": 1,
   "metadata": {},
   "outputs": [
    {
     "name": "stderr",
     "output_type": "stream",
     "text": [
      "/Users/nadinekuo/miniconda3/lib/python3.11/site-packages/tqdm/auto.py:21: TqdmWarning: IProgress not found. Please update jupyter and ipywidgets. See https://ipywidgets.readthedocs.io/en/stable/user_install.html\n",
      "  from .autonotebook import tqdm as notebook_tqdm\n"
     ]
    },
    {
     "name": "stdout",
     "output_type": "stream",
     "text": [
      "Dataset({\n",
      "    features: ['prompts', 'outputs', 'output_tokens', 'ground_truths', 'ground_truth_tokens'],\n",
      "    num_rows: 1071\n",
      "})\n"
     ]
    }
   ],
   "source": [
    "from datasets import Dataset\n",
    "\n",
    "data = Dataset.load_from_disk(f\"../results/3_shot_flan-t5-large.hf\")\n",
    "# data = Dataset.load_from_disk(f\"../results/5_shot_flan-t5-large.hf\")\n",
    "# data = Dataset.load_from_disk(f\"../results/7_shot_flan-t5-large.hf\")\n",
    "# data = Dataset.load_from_disk(f\"../results/10_shot_flan-t5-large.hf\")\n",
    "\n",
    "print(data)"
   ]
  },
  {
   "cell_type": "code",
   "execution_count": 10,
   "metadata": {},
   "outputs": [
    {
     "name": "stdout",
     "output_type": "stream",
     "text": [
      "PROMPT:\n",
      "\n",
      "Question: List all positions Venedykt Aleksiichuk, also known as Venedykt Aleksiychuk, held from 2010 to 2020.\n",
      "['auxiliary bishop (2010, 2011, 2012, 2013, 2014, 2015, 2016, 2017, 2018, 2019, 2020)', 'titular bishop (2010, 2011, 2012, 2013, 2014, 2015, 2016, 2017, 2018, 2019, 2020)', 'Catholic bishop (2010, 2011, 2012, 2013, 2014, 2015, 2016, 2017, 2018, 2019, 2020)', 'diocesan bishop (2017, 2018, 2019, 2020)']\n",
      "\n",
      "Question: List all positions Arseniy Yatsenyuk, also known as Arseniy Petrovych Yatsenyuk, held from 2010 to 2016.\n",
      "[\"People's Deputy of Ukraine (2010, 2011, 2012, 2013, 2014)\", 'Prime Minister of Ukraine (2014, 2015, 2016)']\n",
      "\n",
      "Question: List all positions Mykola Azarov, also known as Mykola Yanovych Azarov, held from 2010 to 2014.\n",
      "[\"People's Deputy of Ukraine (2010, 2012)\", 'Prime Minister of Ukraine (2010, 2011, 2012, 2013, 2014)']\n",
      "\n",
      "Question: List all positions Oleksandr Turchynov, also known as Oleksandr Valentynovych Turchynov, held from 2010 to 2020. Please answer this question in the same format as the 3 examples above.\n",
      "\n",
      "\n",
      "MODEL ANSWER:\n",
      "\n",
      "<pad> ['Deputy Prime Minister of Ukraine (2010, 2011)', 'Deputy Prime Minister of Ukraine (2010, 2011)', 'Deputy Prime Minister of Ukraine (2010, 2011)']</s>\n",
      "\n",
      "\n",
      "GROUND TRUTH:\n",
      "\n",
      "['Prime Minister of Ukraine (2010)', 'First Deputy Prime Minister of Ukraine (2010)', \"People's Deputy of Ukraine (2012, 2013, 2014, 2015)\", 'Chairman of the Verkhovna Rada (2014, 2015, 2016, 2017, 2018, 2019, 2020)', 'President of Ukraine (2014)']\n",
      "\n"
     ]
    }
   ],
   "source": [
    "idx_to_inspect = 1\n",
    "curr_prompt = data['prompts'][idx_to_inspect]\n",
    "curr_output = data['outputs'][idx_to_inspect]\n",
    "curr_gt = data['ground_truths'][idx_to_inspect]\n",
    "curr_output_tokens = data['output_tokens'][idx_to_inspect]\n",
    "curr_gt_tokens = data['ground_truth_tokens'][idx_to_inspect]\n",
    "\n",
    "print(f\"PROMPT:\\n\\n{curr_prompt}\\n\")\n",
    "print(f\"\\nMODEL ANSWER:\\n\\n{curr_output}\\n\")\n",
    "print(f\"\\nGROUND TRUTH:\\n\\n{curr_gt}\\n\")"
   ]
  },
  {
   "cell_type": "code",
   "execution_count": 16,
   "metadata": {},
   "outputs": [
    {
     "name": "stderr",
     "output_type": "stream",
     "text": [
      "/Users/nadinekuo/miniconda3/lib/python3.11/site-packages/huggingface_hub/file_download.py:1132: FutureWarning: `resume_download` is deprecated and will be removed in version 1.0.0. Downloads always resume when possible. If you want to force a new download, use `force_download=True`.\n",
      "  warnings.warn(\n",
      "You are using the default legacy behaviour of the <class 'transformers.models.t5.tokenization_t5.T5Tokenizer'>. This is expected, and simply means that the `legacy` (previous) behavior will be used so nothing changes for you. If you want to use the new behaviour, set `legacy=False`. This should only be set if you understand what it means, and thoroughly read the reason why this was added as explained in https://github.com/huggingface/transformers/pull/24565\n",
      "Special tokens have been added in the vocabulary, make sure the associated word embeddings are fine-tuned or trained.\n"
     ]
    },
    {
     "name": "stdout",
     "output_type": "stream",
     "text": [
      "EM: 0.0, F1: 0.21666666666666667, Recall: 0.17105263157894737, Time-BLEU: 0, Entity-BERT: 0.23400238156318665\n"
     ]
    }
   ],
   "source": [
    "import sys\n",
    "sys.path.append('../')\n",
    "from src.metrics import compute_em, compute_f1, compute_recall, compute_time_bleu, compute_entity_bert\n",
    "from transformers import T5Tokenizer\n",
    "import torch\n",
    "\n",
    "tokenizer =  T5Tokenizer.from_pretrained('google/flan-t5-large', torch_dtype=torch.float16)\n",
    "\n",
    "# ---------------------- Syntax-based metrics --------------------------\n",
    "em = compute_em(curr_gt, curr_output)\n",
    "f1 = compute_f1(curr_gt_tokens, curr_output_tokens)\n",
    "recall = compute_recall(curr_gt_tokens, curr_output_tokens)\n",
    "time_bleu = compute_time_bleu(curr_gt, curr_output, tokenizer)  # NOTE: tends to be relatively high, since the time range is already hinted at in the prompt\n",
    "# ---------------------- Semantics-based metrics --------------------------\n",
    "entity_bert = compute_entity_bert(curr_gt, curr_output)   # Uses BERT tokenizer\n",
    "\n",
    "print(f\"\\n\\nEM: {em}, F1: {f1}, Recall: {recall}, Time-BLEU: {time_bleu}, Entity-BERT: {entity_bert}\")"
   ]
  },
  {
   "cell_type": "code",
   "execution_count": null,
   "metadata": {},
   "outputs": [],
   "source": []
  }
 ],
 "metadata": {
  "kernelspec": {
   "display_name": "base",
   "language": "python",
   "name": "python3"
  },
  "language_info": {
   "codemirror_mode": {
    "name": "ipython",
    "version": 3
   },
   "file_extension": ".py",
   "mimetype": "text/x-python",
   "name": "python",
   "nbconvert_exporter": "python",
   "pygments_lexer": "ipython3",
   "version": "3.11.6"
  }
 },
 "nbformat": 4,
 "nbformat_minor": 2
}
